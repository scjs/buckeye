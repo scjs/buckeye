{
 "cells": [
  {
   "cell_type": "markdown",
   "metadata": {},
   "source": [
    "# Python classes and iterators for the Buckeye Corpus\n",
    "\n",
    "This package is for iterating through the [Buckeye Corpus](http://buckeyecorpus.osu.edu/) annotations in Python. It uses the annotation timestamps to cross-reference the .words, .phones, and .log files, and can be used to extract sound clips from the .wav files. It is available on [PyPI](https://pypi.org/) under the name `buckeye` and is tested to work with Python 2.7 and 3.6.\n",
    "\n",
    "This document contains a short tutorial for using the package. The source for the package is on [GitHub](https://github.com/scjs/buckeye). The docstrings in `buckeye.py`, `containers.py`, and `utterance.py` have more detail about usage.\n",
    "\n",
    "If you need to create Praat TextGrids based on the Buckeye Corpus, the [tgre](https://github.com/scjs/tgre) or [textgrid](https://github.com/kylebgorman/textgrid) packages may be helpful. You can also read the unzipped corpus files directly into Praat with this Praat menu option: `Open -> Read from special tier file -> Read IntervalTier from Xwaves`"
   ]
  },
  {
   "cell_type": "markdown",
   "metadata": {},
   "source": [
    "# Corpus organization\n",
    "\n",
    "The corpus files are organized into one zipped archive per speaker. There are 40 speakers that were interviewed in the corpus, and each speaker is assigned a code-name, from `s01` through `s40`. Each speaker's interview is divided into about 6 tracks. For example, the first track for the first speaker is called `s0101a`. Each track contains three files (e.g., `s0101a.words`, `s0101a.phones`, and `s0101a.log`) which each contain the time-alignments for one annotation tier. Each track also includes a `.wav` file with the audio, plus a `.txt` file containing a list of speaker turns without time-alignments."
   ]
  },
  {
   "cell_type": "markdown",
   "metadata": {},
   "source": [
    "# Speaker\n",
    "\n",
    "A `Speaker` instance is created by calling the `from_zip` method on one of the zipped speaker\n",
    "archives that can be downloaded from the corpus website."
   ]
  },
  {
   "cell_type": "code",
   "execution_count": 1,
   "metadata": {},
   "outputs": [
    {
     "data": {
      "text/plain": [
       "Speaker(\"s01\")"
      ]
     },
     "execution_count": 1,
     "metadata": {},
     "output_type": "execute_result"
    }
   ],
   "source": [
    "import buckeye\n",
    "\n",
    "speaker = buckeye.Speaker.from_zip('speakers/s01.zip')\n",
    "speaker"
   ]
  },
  {
   "cell_type": "markdown",
   "metadata": {},
   "source": [
    "This will open and process the annotations in each of the sub-archives inside\n",
    "the speaker archive (the tracks, such as `s0101a` and `s0101b`). If an optional\n",
    "`load_wavs` argument is set to `True` when creating a `Speaker` instance, the\n",
    "wav files associated with each track will also be loaded into memory:"
   ]
  },
  {
   "cell_type": "code",
   "execution_count": 2,
   "metadata": {},
   "outputs": [
    {
     "data": {
      "text/plain": [
       "Speaker(\"s01\")"
      ]
     },
     "execution_count": 2,
     "metadata": {},
     "output_type": "execute_result"
    }
   ],
   "source": [
    "speaker = buckeye.Speaker.from_zip('speakers/s01.zip', load_wavs=True)\n",
    "speaker"
   ]
  },
  {
   "cell_type": "markdown",
   "metadata": {},
   "source": [
    "Otherwise, only the annotations are loaded.\n",
    "\n",
    "Each `Speaker` instance has the speaker's code-name, sex, age, and interviewer\n",
    "sex available as attributes."
   ]
  },
  {
   "cell_type": "code",
   "execution_count": 3,
   "metadata": {},
   "outputs": [
    {
     "name": "stdout",
     "output_type": "stream",
     "text": [
      "s01\n",
      "f\n",
      "y\n",
      "f\n"
     ]
    }
   ],
   "source": [
    "print(speaker.name)\n",
    "print(speaker.sex) # f for female, m for male\n",
    "print(speaker.age) # o for old, y for young\n",
    "print(speaker.interviewer) # f for female, m for male"
   ]
  },
  {
   "cell_type": "markdown",
   "metadata": {},
   "source": [
    "The tracks can be accessed by iterating through the `Speaker` instance. There is more detail about accessing the annotations below under the heading **Track**."
   ]
  },
  {
   "cell_type": "code",
   "execution_count": 4,
   "metadata": {},
   "outputs": [
    {
     "name": "stdout",
     "output_type": "stream",
     "text": [
      "s0101a\n",
      "s0101b\n",
      "s0102a\n",
      "s0102b\n",
      "s0103a\n"
     ]
    }
   ],
   "source": [
    "for track in speaker:\n",
    "    print(track.name)"
   ]
  },
  {
   "cell_type": "markdown",
   "metadata": {},
   "source": [
    "The tracks can also be accessed as a list through the `tracks` attribute."
   ]
  },
  {
   "cell_type": "code",
   "execution_count": 5,
   "metadata": {},
   "outputs": [
    {
     "name": "stdout",
     "output_type": "stream",
     "text": [
      "[Track(\"s0101a\"), Track(\"s0101b\"), Track(\"s0102a\"), Track(\"s0102b\"), Track(\"s0103a\")]\n"
     ]
    }
   ],
   "source": [
    "print(speaker.tracks)"
   ]
  },
  {
   "cell_type": "markdown",
   "metadata": {},
   "source": [
    "# Track\n",
    "\n",
    "Each speaker has 6 or so tracks."
   ]
  },
  {
   "cell_type": "code",
   "execution_count": 6,
   "metadata": {},
   "outputs": [
    {
     "data": {
      "text/plain": [
       "Speaker(\"s01\")"
      ]
     },
     "execution_count": 6,
     "metadata": {},
     "output_type": "execute_result"
    }
   ],
   "source": [
    "speaker"
   ]
  },
  {
   "cell_type": "code",
   "execution_count": 7,
   "metadata": {},
   "outputs": [
    {
     "data": {
      "text/plain": [
       "Track(\"s0101a\")"
      ]
     },
     "execution_count": 7,
     "metadata": {},
     "output_type": "execute_result"
    }
   ],
   "source": [
    "track = speaker[0]\n",
    "track"
   ]
  },
  {
   "cell_type": "markdown",
   "metadata": {},
   "source": [
    "The annotations and recordings for each track are stored in the `words`, `phones`, `log`, `txt`, and `wav` attributes. See below for more information on each attribute."
   ]
  },
  {
   "cell_type": "markdown",
   "metadata": {},
   "source": [
    "If you don't want to load all of the tracks for a speaker, there are two ways to load tracks individually.\n",
    "\n",
    "First, you can call the `Track.from_zip` method directly on a zipped track archive."
   ]
  },
  {
   "cell_type": "code",
   "execution_count": 8,
   "metadata": {},
   "outputs": [
    {
     "data": {
      "text/plain": [
       "Track(\"s0303b\")"
      ]
     },
     "execution_count": 8,
     "metadata": {},
     "output_type": "execute_result"
    }
   ],
   "source": [
    "another_track = buckeye.Track.from_zip('s0303b.zip')\n",
    "another_track"
   ]
  },
  {
   "cell_type": "markdown",
   "metadata": {},
   "source": [
    "Second, if you're working with the original uncompressed files, you can create a track without using the `from_zip` method by passing filepaths for the five track files (ending in `.words`, `.phones`, `.log`, `.txt`, and `.wav`), plus the name of the track, as arguments. For example:"
   ]
  },
  {
   "cell_type": "code",
   "execution_count": 9,
   "metadata": {},
   "outputs": [
    {
     "data": {
      "text/plain": [
       "Track(\"s0303b\")"
      ]
     },
     "execution_count": 9,
     "metadata": {},
     "output_type": "execute_result"
    }
   ],
   "source": [
    "another_track = buckeye.Track(name='s0303b',\n",
    "                              words='tracks/s0303b/s0303b.words',\n",
    "                              phones='tracks/s0303b/s0303b.phones',\n",
    "                              log='tracks/s0303b/s0303b.log',\n",
    "                              txt='tracks/s0303b/s0303b.txt',\n",
    "                              wav='tracks/s0303b/s0303b.wav' # wav is optional\n",
    "                             )\n",
    "\n",
    "another_track"
   ]
  },
  {
   "cell_type": "markdown",
   "metadata": {},
   "source": [
    "### Words\n",
    "\n",
    "The `words` attribute stores a list of Word and Pause instances, created from the `.words` file."
   ]
  },
  {
   "cell_type": "code",
   "execution_count": 10,
   "metadata": {},
   "outputs": [
    {
     "data": {
      "text/plain": [
       "[Pause('{B_TRANS}', 0.0, 0.102385),\n",
       " Pause('<SIL>', 0.102385, 4.275744),\n",
       " Pause('<NOISE>', 4.275744, 8.513518),\n",
       " Pause('<IVER>', 8.513518, 32.216575),\n",
       " Word('okay', 32.216575, 32.622045, ['ow', 'k', 'ey'], ['k', 'ay'], 'NN'),\n",
       " Pause('<IVER>', 32.622045, 37.129002),\n",
       " Pause('<VOCNOISE>', 37.129002, 38.123014),\n",
       " Pause('<IVER>', 38.123014, 44.617996),\n",
       " Word('um', 44.617996, 44.946848, ['ah', 'm'], ['ah', 'm'], 'UH'),\n",
       " Pause('<SIL>', 44.946848, 45.355708)]"
      ]
     },
     "execution_count": 10,
     "metadata": {},
     "output_type": "execute_result"
    }
   ],
   "source": [
    "track.words[:10]"
   ]
  },
  {
   "cell_type": "markdown",
   "metadata": {},
   "source": [
    "Word instances have these nine attributes:\n",
    "\n",
    "* `orthography` - the word's spelling\n",
    "* `beg` - the timestamp when the word begins (relative to the start of the track), in seconds\n",
    "* `end` - the timestamp when the word ends\n",
    "* `dur` - the duration of the word\n",
    "* `phonemic` - the canonical transcription\n",
    "* `phonetic` - the close transcription\n",
    "* `pos` - the word's part of speech\n",
    "* `misaligned` - marked as True if the word has a negative duration, or if the phonetic transcription doesn't match what's in the `.phones` file\n",
    "* `phones` - a list of references to Phone instances that have the labels and timestamps for the phonetic transcription"
   ]
  },
  {
   "cell_type": "code",
   "execution_count": 11,
   "metadata": {},
   "outputs": [
    {
     "name": "stdout",
     "output_type": "stream",
     "text": [
      "okay\n",
      "32.216575\n",
      "32.622045\n",
      "0.4054700000000011\n",
      "['ow', 'k', 'ey']\n",
      "['k', 'ay']\n",
      "NN\n",
      "False\n"
     ]
    }
   ],
   "source": [
    "word = track.words[4]\n",
    "\n",
    "print(word.orthography)\n",
    "print(word.beg)\n",
    "print(word.end)\n",
    "print(word.dur)\n",
    "print(word.phonemic)\n",
    "print(word.phonetic)\n",
    "print(word.pos)\n",
    "print(word.misaligned)"
   ]
  },
  {
   "cell_type": "markdown",
   "metadata": {},
   "source": [
    "The phones are retrieved based on the timestamps for the word and for the entries in the `.phones` file."
   ]
  },
  {
   "cell_type": "code",
   "execution_count": 12,
   "metadata": {},
   "outputs": [
    {
     "data": {
      "text/plain": [
       "[Phone('k', 32.216575, 32.376593), Phone('ay', 32.376593, 32.622045)]"
      ]
     },
     "execution_count": 12,
     "metadata": {},
     "output_type": "execute_result"
    }
   ],
   "source": [
    "word.phones"
   ]
  },
  {
   "cell_type": "markdown",
   "metadata": {},
   "source": [
    "Phones have four attributes:\n",
    "\n",
    "* `seg` - the pseudo-ARPABET transcription of the phone\n",
    "* `beg` - the timestamp when the phone begins (relative to the start of the track), in seconds\n",
    "* `end` - the timestamp when the phone ends\n",
    "* `dur` - duration"
   ]
  },
  {
   "cell_type": "code",
   "execution_count": 13,
   "metadata": {},
   "outputs": [
    {
     "name": "stdout",
     "output_type": "stream",
     "text": [
      "k 32.216575 32.376593 0.16001800000000088\n",
      "ay 32.376593 32.622045 0.24545200000000023\n"
     ]
    }
   ],
   "source": [
    "for phone in word.phones:\n",
    "    print(phone.seg, phone.beg, phone.end, phone.dur)"
   ]
  },
  {
   "cell_type": "markdown",
   "metadata": {},
   "source": [
    "Many of the annotations are things like `<SIL>` (silence) or `<IVER>` (the interviewer's turn). These are stored as Pause instances, rather than Word instances. Pause instances have six attributes:\n",
    "\n",
    "* `entry` - the kind of Pause, e.g. `<SIL>`\n",
    "* `beg` - when the pause begins\n",
    "* `end` - when the pause ends\n",
    "* `dur` - duration\n",
    "* `misaligned` - marked as True if the Pause has a negative duration\n",
    "* `phones` - a list of references to Phone instances that are associated with this Pause, e.g. one or more `SIL` tokens"
   ]
  },
  {
   "cell_type": "code",
   "execution_count": 14,
   "metadata": {},
   "outputs": [
    {
     "name": "stdout",
     "output_type": "stream",
     "text": [
      "<SIL> 0.102385 4.275744 4.1733590000000005 False\n"
     ]
    }
   ],
   "source": [
    "pause = track.words[1]\n",
    "\n",
    "print(pause.entry, pause.beg, pause.end, pause.dur, pause.misaligned)"
   ]
  },
  {
   "cell_type": "code",
   "execution_count": 15,
   "metadata": {},
   "outputs": [
    {
     "data": {
      "text/plain": [
       "[Phone('SIL', 0.102385, 4.275744)]"
      ]
     },
     "execution_count": 15,
     "metadata": {},
     "output_type": "execute_result"
    }
   ],
   "source": [
    "pause.phones"
   ]
  },
  {
   "cell_type": "markdown",
   "metadata": {},
   "source": [
    "### Phones\n",
    "\n",
    "The phones in a track can also be accessed directly through the `phones` attribute of a Track instance."
   ]
  },
  {
   "cell_type": "code",
   "execution_count": 16,
   "metadata": {},
   "outputs": [
    {
     "name": "stdout",
     "output_type": "stream",
     "text": [
      "{B_TRANS} 0.0 0.102385 0.102385\n",
      "SIL 0.102385 4.275744 4.1733590000000005\n",
      "NOISE 4.275744 8.513763 4.238019\n",
      "IVER 8.513763 32.216575 23.702811999999998\n",
      "k 32.216575 32.376593 0.16001800000000088\n",
      "ay 32.376593 32.622045 0.24545200000000023\n",
      "IVER 32.622045 37.129002 4.506957\n",
      "VOCNOISE 37.129002 38.123014 0.9940119999999979\n",
      "IVER 38.123014 44.617996 6.494982\n",
      "ah 44.617996 44.820731 0.2027350000000041\n"
     ]
    }
   ],
   "source": [
    "for phone in track.phones[:10]:\n",
    "    print(phone.seg, phone.beg, phone.end, phone.dur)"
   ]
  },
  {
   "cell_type": "markdown",
   "metadata": {},
   "source": [
    "### Log\n",
    "\n",
    "The list of entries in the Track's `.log` file can be accessed through the `log` attribute, which stores a list of the `LogEntry` instances for the Track.\n",
    "\n",
    "`LogEntry` instances have `entry`, `beg`, `end`, and `dur` attributes."
   ]
  },
  {
   "cell_type": "code",
   "execution_count": 17,
   "metadata": {},
   "outputs": [
    {
     "name": "stdout",
     "output_type": "stream",
     "text": [
      "<VOICE=modal> 0.0 61.142603 61.142603\n",
      "<VOICE=creaky> 61.142603 61.397647 0.25504399999999805\n",
      "<VOICE=modal> 61.397647 176.705681 115.30803399999999\n",
      "<VOICE=creaky> 176.705681 177.442715 0.7370339999999942\n",
      "<VOICE=modal> 177.442715 208.458474 31.015759000000003\n",
      "<VOICE=creaky> 208.458474 208.998197 0.5397230000000093\n",
      "<IVER_overlap-start> 208.998197 218.326046 9.327848999999986\n",
      "<IVER_overlap-end> 218.326046 218.619639 0.29359300000001554\n",
      "<IVER_overlap-start> 218.619639 281.4126 62.79296099999999\n",
      "<IVER_overlap-end> 281.4126 282.015381 0.6027809999999931\n",
      "<VOICE=modal> 282.015381 283.01414 0.9987590000000068\n",
      "<VOICE=creaky> 283.01414 283.342991 0.328850999999986\n",
      "<IVER_overlap-start> 283.342991 286.3691 3.0261090000000195\n",
      "<IVER_overlap-end> 286.3691 286.587431 0.21833099999997785\n",
      "<IVER_overlap-start> 286.587431 358.243781 71.65635000000003\n",
      "<IVER_overlap-end> 358.243781 358.766553 0.5227719999999749\n",
      "<VOICE=modal> 358.766553 570.891209 212.12465600000002\n",
      "<VOICE=creaky> 570.891209 570.988848 0.09763899999995829\n",
      "<IVER_overlap-start> 570.988848 595.595736 24.606888000000026\n",
      "<IVER_overlap-end> 595.595736 596.178854 0.5831180000000131\n"
     ]
    }
   ],
   "source": [
    "for log in track.log:\n",
    "    print(log.entry, log.beg, log.end, log.dur)"
   ]
  },
  {
   "cell_type": "markdown",
   "metadata": {},
   "source": [
    "You can call the `get_logs()` method of a Track to retrieve the log entries that overlap with the given timestamps.\n",
    "\n",
    "For example, the log entries that overlap with the interval from 60 seconds to 62 seconds can be found like this:"
   ]
  },
  {
   "cell_type": "code",
   "execution_count": 18,
   "metadata": {},
   "outputs": [
    {
     "name": "stdout",
     "output_type": "stream",
     "text": [
      "<VOICE=modal> 0.0 61.142603\n",
      "<VOICE=creaky> 61.142603 61.397647\n",
      "<VOICE=modal> 61.397647 176.705681\n"
     ]
    }
   ],
   "source": [
    "logs = track.get_logs(60.0, 62.0)\n",
    "\n",
    "for log in logs:\n",
    "    print(log.entry, log.beg, log.end)"
   ]
  },
  {
   "cell_type": "markdown",
   "metadata": {},
   "source": [
    "### Txt"
   ]
  },
  {
   "cell_type": "markdown",
   "metadata": {},
   "source": [
    "The `txt` attribute holds a list of speaker turns without timestamps, read from\n",
    "the `.txt` file in the track."
   ]
  },
  {
   "cell_type": "code",
   "execution_count": 19,
   "metadata": {},
   "outputs": [
    {
     "data": {
      "text/plain": [
       "'okay <IVER>'"
      ]
     },
     "execution_count": 19,
     "metadata": {},
     "output_type": "execute_result"
    }
   ],
   "source": [
    "track.txt[1]"
   ]
  },
  {
   "cell_type": "markdown",
   "metadata": {},
   "source": [
    "### Wav\n",
    "\n",
    "If a Speaker instance is created with `load_wavs=True`, each Track will also have a `wav` attribute that stores a `Wave_read` instance."
   ]
  },
  {
   "cell_type": "code",
   "execution_count": 20,
   "metadata": {},
   "outputs": [
    {
     "data": {
      "text/plain": [
       "<wave.Wave_read at 0x81fd4a8>"
      ]
     },
     "execution_count": 20,
     "metadata": {},
     "output_type": "execute_result"
    }
   ],
   "source": [
    "speaker = buckeye.Speaker.from_zip('speakers/s01.zip', load_wavs=True)\n",
    "track = speaker[0]\n",
    "\n",
    "track.wav"
   ]
  },
  {
   "cell_type": "markdown",
   "metadata": {},
   "source": [
    "You can extract sound clips from the wav file with the `clip_wav()` method of each Track:"
   ]
  },
  {
   "cell_type": "code",
   "execution_count": 21,
   "metadata": {},
   "outputs": [],
   "source": [
    "track.clip_wav('myclip.wav', 60.0, 62.0)"
   ]
  },
  {
   "cell_type": "markdown",
   "metadata": {},
   "source": [
    "This will create a wav file in the current directory called `myclip.wav` which\n",
    "contains the sound between 60 and 62 seconds in the track audio."
   ]
  },
  {
   "cell_type": "markdown",
   "metadata": {},
   "source": [
    "# Corpus generator"
   ]
  },
  {
   "cell_type": "markdown",
   "metadata": {},
   "source": [
    "The `corpus()` generator function is a convenience for iterating through all of\n",
    "the speaker archives together. Put all forty speaker archives in one directory,\n",
    "such as a directory named `speakers`. Create a new generator with this directory as an argument."
   ]
  },
  {
   "cell_type": "code",
   "execution_count": 22,
   "metadata": {},
   "outputs": [],
   "source": [
    "corpus = buckeye.corpus('speakers/')"
   ]
  },
  {
   "cell_type": "markdown",
   "metadata": {},
   "source": [
    "The generator will yield the `Speaker` instances in numerical order."
   ]
  },
  {
   "cell_type": "code",
   "execution_count": 23,
   "metadata": {},
   "outputs": [
    {
     "name": "stdout",
     "output_type": "stream",
     "text": [
      "s01 s02 s03 s04 s05 s06 s07 s08 s09 s10 s11 s12 s13 s14 s15 s16 s17 s18 s19 s20 s21 s22 s23 s24 s25 s26 s27 s28 s29 s30 s31 s32 s33 s34 s35 s36 s37 s38 s39 s40 "
     ]
    }
   ],
   "source": [
    "for speaker in corpus:\n",
    "    print(speaker.name, end=' ')"
   ]
  },
  {
   "cell_type": "markdown",
   "metadata": {},
   "source": [
    "If you're using a `corpus()` generator, you can set `load_wavs` to `True` and it will be passed down to every `Track` instance, so that the all of the wav files will be loaded."
   ]
  },
  {
   "cell_type": "code",
   "execution_count": 24,
   "metadata": {},
   "outputs": [],
   "source": [
    "corpus = buckeye.corpus('speakers/', load_wavs=True)"
   ]
  }
 ],
 "metadata": {
  "kernelspec": {
   "display_name": "Python 3",
   "language": "python",
   "name": "python3"
  },
  "language_info": {
   "codemirror_mode": {
    "name": "ipython",
    "version": 3
   },
   "file_extension": ".py",
   "mimetype": "text/x-python",
   "name": "python",
   "nbconvert_exporter": "python",
   "pygments_lexer": "ipython3",
   "version": "3.6.4"
  }
 },
 "nbformat": 4,
 "nbformat_minor": 1
}
